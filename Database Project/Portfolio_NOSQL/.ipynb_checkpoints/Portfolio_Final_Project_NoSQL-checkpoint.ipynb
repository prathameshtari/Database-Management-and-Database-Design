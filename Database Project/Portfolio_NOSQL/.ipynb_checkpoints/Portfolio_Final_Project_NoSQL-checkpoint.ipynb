{
 "cells": [
  {
   "cell_type": "markdown",
   "metadata": {},
   "source": [
    "# <center> Non Relational Database Design in MongoDB"
   ]
  },
  {
   "cell_type": "markdown",
   "metadata": {},
   "source": [
    "## Introduction"
   ]
  },
  {
   "cell_type": "markdown",
   "metadata": {},
   "source": [
    "NoSQL encompasses a wide variety of different database technologies that were developed in response to the demands presented in building modern applications:\n",
    "* Developers are working with applications that create massive volumes of new, rapidly changing data types — structured, semi-structured, unstructured and polymorphic data\n",
    "* Long gone is the twelve-to-eighteen month waterfall development cycle. Now small teams work in agile sprints, iterating quickly and pushing code every week or two, some even multiple times every day.\n",
    "* Applications that once served a finite audience are now delivered as services that must be always-on, accessible from many different devices and scaled globally to millions of users.\n",
    "* Organizations are now turning to scale-out architectures using open source software, commodity servers and cloud computing instead of large monolithic servers and storage infrastructure.  \n",
    "\n",
    "\n",
    "Relational databases were not designed to cope with the scale and agility challenges that face modern applications, nor were they built to take advantage of the commodity storage and processing power available today."
   ]
  },
  {
   "cell_type": "markdown",
   "metadata": {},
   "source": [
    "## Why relational databases fall short"
   ]
  },
  {
   "cell_type": "markdown",
   "metadata": {},
   "source": [
    "Relational databases were born in the era of mainframes and business applications – long before the Internet, the cloud, big data, mobile and now, the Digital Economy. In fact, the first commercial implementation was released by Oracle in 1979. These databases were engineered to run on a single server – the bigger, the better. The only way to increase the capacity of these databases was to upgrade the servers – processors, memory, and storage – to scale up.\n",
    "\n",
    " "
   ]
  },
  {
   "cell_type": "markdown",
   "metadata": {},
   "source": [
    "NoSQL databases emerged as a result of the exponential growth of the Internet and the rise of web applications. Google released the BigTable research in 2006, and Amazon released the Dynamo research paper in 2007. These databases were engineered to meet a new generation of enterprise requirements:\n",
    "\n",
    " \n",
    "\n",
    "The need to develop with agility and to operate at any scale."
   ]
  },
  {
   "cell_type": "markdown",
   "metadata": {
    "collapsed": true
   },
   "source": [
    "## Advantages of using MongoDB"
   ]
  },
  {
   "cell_type": "markdown",
   "metadata": {},
   "source": [
    "* Schema less − MongoDB is a document database in which one collection holds different documents. Number of fields, content and size of the document can differ from one document to another.\n",
    "\n",
    "\n",
    "* Structure of a single object is clear.\n",
    "\n",
    "\n",
    "* No complex joins.\n",
    "\n",
    "\n",
    "* Deep query-ability. MongoDB supports dynamic queries on documents using a document-based query language that's nearly as powerful as SQL.\n",
    "\n",
    "\n",
    "* Tuning.\n",
    "\n",
    "\n",
    "* Ease of scale-out − MongoDB is easy to scale.\n",
    "\n",
    "\n",
    "* Conversion/mapping of application objects to database objects not needed.\n",
    "\n",
    "\n",
    "* Uses internal memory for storing the (windowed) working set, enabling faster access of data."
   ]
  },
  {
   "cell_type": "markdown",
   "metadata": {},
   "source": [
    "## Why use MongoDB?"
   ]
  },
  {
   "cell_type": "markdown",
   "metadata": {},
   "source": [
    "* Document Oriented Storage − Data is stored in the form of JSON style documents.\n",
    "\n",
    "\n",
    "* Index on any attribute\n",
    "\n",
    "\n",
    "* Replication and high availability\n",
    "\n",
    "\n",
    "* Auto-sharding\n",
    "\n",
    "\n",
    "* Rich queries\n",
    "\n",
    "\n",
    "* Fast in-place updates\n",
    "\n",
    "\n",
    "* Professional support by MongoDB"
   ]
  },
  {
   "cell_type": "markdown",
   "metadata": {},
   "source": [
    "## How to create a MongoDB? "
   ]
  },
  {
   "cell_type": "markdown",
   "metadata": {},
   "source": [
    "First of all you need to install mongoDB on your system. Below are the instructions how to do it.\n",
    "\n",
    "* Installation:\n",
    "\n",
    "  Go to https://www.mongodb.com/download-center#community and click on community server.\n",
    "\n",
    "\n",
    "![alt text](download1.png \"download1\")\n",
    "\n",
    "\n",
    "After downloading install it.\n",
    "\n",
    "\n",
    "![alt text](download2.png \"download2\")\n",
    "\n",
    "\n",
    "Installation steps:\n",
    "\n",
    "\n",
    "![alt text](download3.png \"download3\")\n",
    "\n",
    "Choose Custom in Setup Types so that we can change the location.\n",
    "\n",
    "![alt text](download4.png \"download4\")\n",
    "\n",
    "Click on Install\n",
    "\n",
    "![alt text](download5.png \"download5\")\n",
    "\n",
    "Go to the loaction where mongoDB is installed\n",
    "\n",
    "![alt text](download6.png \"download6\")\n",
    "\n",
    "Create 2 new folders named data and log.\n",
    "\n",
    "\n",
    "![alt text](download7.png \"download7\")\n",
    "\n",
    "Inside data folder, create one more folder called db (that’s where all the data will be stored.)\n",
    "\n",
    "\n",
    "![alt text](download8.png \"download8\")\n",
    "\n",
    "open command line. (Run as administrator)\n",
    "\n",
    "\n",
    "![alt text](download9.png \"download9\")\n",
    "\n",
    "Will go to bin folder\n",
    "\n",
    "![alt text](download10.png \"download10\")\n",
    "\n",
    "Now we will run mongod and set a bunch of flags like directoryperdb and then we will specify dbpath & logpath which is going to be the path to the folder db we created and where logs will be saved. The command “mongod --directoryperdb --dbpath C:\\mongodb\\data\\db --logpath C:\\mongodb\\log\\mongo.log --logappend –install” will allow us to run a service.\n",
    "\n",
    "![alt text](download11.png \"download11\")\n",
    "\n",
    "Enter “net start MongoDB” to start the service.\n",
    "\n",
    "\n",
    "![alt text](download12.png \"download12\")\n",
    "\n",
    "Now we will be working in the mongo shell. Just type mongo in the bin directory.\n",
    "\n",
    "![alt text](download13.png \"download13\")\n",
    "\n",
    "We are first creating a database in mongoDB using the 'use' keyword.\n",
    "\n",
    "![alt text](db.png \"use\")\n",
    "\n",
    "We then create collections in that database. Here we create 3 collections namely 'player','team','match'.\n",
    "we use db.createCollection command.\n",
    "\n",
    "![alt text](collections.png \"collections\")\n",
    "\n",
    "We have to import data into the collections we have created. For doing that we have the csv files and we import them.\n",
    "Import command is as shown below and we have successfully imported them into our collections. We keep the csv files in the same location where mongo is installed under bin folder.\n",
    "\n",
    "![alt text](impo.png \"import\")\n",
    "\n",
    "Here we specify which database we want to use.\n",
    "\n",
    "![alt text](db.png \"use\")\n",
    "\n",
    "Find command is used to check whether the data we imported can be seen in the collections.\n",
    "Checking the collection 'player' if it is successfully populated.\n",
    "\n",
    "![alt text](find.png \"find\")"
   ]
  },
  {
   "cell_type": "code",
   "execution_count": null,
   "metadata": {
    "collapsed": true
   },
   "outputs": [],
   "source": []
  },
  {
   "cell_type": "markdown",
   "metadata": {},
   "source": [
    "## Various commands in MongoDB"
   ]
  },
  {
   "cell_type": "markdown",
   "metadata": {},
   "source": [
    "* Inserting documents in a collection\n",
    "\n",
    "![alt text](insert.png \"insert\")\n",
    "\n",
    "* Updating fields for documents in a collection\n",
    "\n",
    "![alt text](update.png \"update\")\n",
    "\n",
    "* SET Operator\n",
    "\n",
    "Using set operator, we can change/add a particular field without disturbing the other fields in the document. Course ALGO has been added under ROBIN without any changes in the other fields.\n",
    "\n",
    "![alt text](set.png \"set\")\n",
    "\n",
    "* INC Operator\n",
    "\n",
    "We use this operator to increment a field for document in a collection\n",
    "\n",
    "![alt text](inc.png \"inc\")\n",
    "\n",
    "* Removing document from collection\n",
    "Command: db.professordetails.remove({first_name:\"KAL\"})\n",
    "\n",
    "![alt text](remove.png \"remove\")\n",
    "\n",
    "\n",
    "* Sorting documents in ASC and DESC order\n",
    "\n",
    "Command: db.professordetails.find().sort({first_name:1})\n",
    "The above command will sort the documents in ascending order(since the value is 1) by their first name\n",
    "\n",
    "![alt text](asc.png \"asc\")\n",
    "\n",
    "* For descending order we can set it to -1.\n",
    "* Command: db.professordetails.find().sort({first_name:-1})\n",
    " \n",
    "![alt text](desc.png \"desc\") \n",
    "\n",
    "* To make it look neat, we can use pretty()\n",
    "\n",
    "![alt text](pretty.png \"pretty\")\n",
    "\n",
    "* Counting document in a collection:\n",
    "\n",
    "* Command: db.professordetails.find().count()\n",
    "  \n",
    "  \n",
    "  The command will count the number of documents in a collection.\n",
    "\n",
    "![alt text](count.png \"count\")\n",
    "\n",
    "* Limit & Sorting:\n",
    "\n",
    "\n",
    "Command: db.professordetails.find().limit(3).sort({course:1})\n",
    "\n",
    "\n",
    "Will sort the documents by course and display the first 3.\n",
    "\n",
    "![alt text](limit.png \"limit\")\n",
    "\n",
    "\n",
    "\n"
   ]
  },
  {
   "cell_type": "markdown",
   "metadata": {},
   "source": [
    "## Tutorials and References\n"
   ]
  },
  {
   "cell_type": "markdown",
   "metadata": {},
   "source": [
    "Please refer to the below mentioned URL's for more information on MongoDB and various operations we can do.\n",
    "\n",
    "- https://docs.mongodb.com/manual/tutorial/\n",
    "\n",
    "- https://www.tutorialspoint.com/mongodb/index.htm\n",
    "    \n",
    "- https://www.guru99.com/mongodb-tutorials.html"
   ]
  },
  {
   "cell_type": "markdown",
   "metadata": {
    "collapsed": true
   },
   "source": [
    "## LICENSE"
   ]
  },
  {
   "cell_type": "markdown",
   "metadata": {},
   "source": [
    "MIT License  \n",
    "\n",
    "Copyright (c) 2018 Prathamesh Tari and Akshay Shinde\n",
    "\n",
    "Permission is hereby granted, free of charge, to any person obtaining a copy of this software and associated documentation files (the \"Software\"), to deal in the Software without restriction, including without limitation the rights to use, copy, modify, merge, publish, distribute, sublicense, and/or sell copies of the Software, and to permit persons to whom the Software is furnished to do so, subject to the following conditions:\n",
    "\n",
    "The above copyright notice and this permission notice shall be included in all copies or substantial portions of the Software.\n",
    "\n",
    "THE SOFTWARE IS PROVIDED \"AS IS\", WITHOUT WARRANTY OF ANY KIND, EXPRESS OR IMPLIED, INCLUDING BUT NOT LIMITED TO THE WARRANTIES OF MERCHANTABILITY, FITNESS FOR A PARTICULAR PURPOSE AND NONINFRINGEMENT. IN NO EVENT SHALL THE AUTHORS OR COPYRIGHT HOLDERS BE LIABLE FOR ANY CLAIM, DAMAGES OR OTHER LIABILITY, WHETHER IN AN ACTION OF CONTRACT, TORT OR OTHERWISE, ARISING FROM, OUT OF OR IN CONNECTION WITH THE SOFTWARE OR THE USE OR OTHER DEALINGS IN THE SOFTWARE.\n"
   ]
  },
  {
   "cell_type": "markdown",
   "metadata": {},
   "source": [
    "<a rel=\"license\" href=\"http://creativecommons.org/licenses/by/4.0/\"><img alt=\"Creative Commons License\" style=\"border-width:0\" src=\"https://i.creativecommons.org/l/by/4.0/88x31.png\" /></a><br />This work is licensed under a <a rel=\"license\" href=\"http://creativecommons.org/licenses/by/4.0/\">Creative Commons Attribution 4.0 International License</a>."
   ]
  },
  {
   "cell_type": "code",
   "execution_count": null,
   "metadata": {
    "collapsed": true
   },
   "outputs": [],
   "source": []
  }
 ],
 "metadata": {
  "kernelspec": {
   "display_name": "Python 3",
   "language": "python",
   "name": "python3"
  },
  "language_info": {
   "codemirror_mode": {
    "name": "ipython",
    "version": 3
   },
   "file_extension": ".py",
   "mimetype": "text/x-python",
   "name": "python",
   "nbconvert_exporter": "python",
   "pygments_lexer": "ipython3",
   "version": "3.6.1"
  }
 },
 "nbformat": 4,
 "nbformat_minor": 2
}
