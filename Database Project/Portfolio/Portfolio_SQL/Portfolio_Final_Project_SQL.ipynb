{
 "cells": [
  {
   "cell_type": "markdown",
   "metadata": {},
   "source": [
    "# <center> Relational Database Design in SQL"
   ]
  },
  {
   "cell_type": "markdown",
   "metadata": {},
   "source": [
    "<center>Prathamesh Tari &nbsp;&nbsp;&nbsp;&nbsp;&nbsp; 001886537 &nbsp;&nbsp;&nbsp;&nbsp;&nbsp; tari.p@husky.neu.edu </center> \n",
    "<center>Akshay Shinde &nbsp;&nbsp;&nbsp;&nbsp;&nbsp; 001251097 &nbsp;&nbsp;&nbsp;&nbsp;&nbsp; shinde.ak@husky.neu.edu</center>"
   ]
  },
  {
   "cell_type": "markdown",
   "metadata": {},
   "source": [
    "### Introduction"
   ]
  },
  {
   "cell_type": "markdown",
   "metadata": {},
   "source": [
    "Relational database was proposed by Edgar Codd (of IBM Research) around 1969. It has since become the dominant database model for commercial applications (in comparison with other database models such as hierarchical, network and object models). Today, there are many commercial Relational Database Management System (RDBMS), such as Oracle, IBM DB2 and Microsoft SQL Server. There are also many free and open-source RDBMS, such as MySQL, mSQL (mini-SQL) and the embedded JavaDB (Apache Derby).\n",
    "\n",
    "A relational database organizes data in tables (or relations). A table is made up of rows and columns. A row is also called a record (or tuple). A column is also called a field (or attribute). A database table is similar to a spreadsheet. However, the relationships that can be created among the tables enable a relational database to efficiently store huge amount of data, and effectively retrieve selected data.\n",
    "\n",
    "A language called SQL (Structured Query Language) was developed to work with relational databases."
   ]
  },
  {
   "cell_type": "markdown",
   "metadata": {},
   "source": [
    "### Objective"
   ]
  },
  {
   "cell_type": "markdown",
   "metadata": {},
   "source": [
    "There are many distinct objectives that you must achieve in order to design a good, sound, structured database. You can avoid many of the problems you may encounter by keeping the following objectives in mind and constantly focus on these whilst designing your database."
   ]
  },
  {
   "cell_type": "markdown",
   "metadata": {},
   "source": [
    "* The database supports both required and ad hoc (unplanned) information retrieval. The database must be designed to store the data necessary to support information requirements defined during the design process and any possible ad hoc queries that may be posed by the users.\n",
    "* The tables are constructed properly and efficiently. Each table in the database must represent a single subject only and should be composed of relatively distinct fields which keep redundant data to an absolute minimum and should be identified throughout the database by a field with unique values.\n",
    "* Data integrity is imposed at the field, table and relationship levels. These levels of integrity help guarantee that the data structures and their values will be valid and as accurate as possible at all times.\n",
    "* The database should support business rules relevant to the organization it is designed for. The data must provide accurate information that is always meaningful to the business.\n",
    "* The database should lend itself to future growth and development. The database structure should be easily modifiable and expendable as the information requirements of the business continue to change and grow."
   ]
  },
  {
   "cell_type": "markdown",
   "metadata": {},
   "source": [
    "### Relational Database Design Process"
   ]
  },
  {
   "cell_type": "markdown",
   "metadata": {},
   "source": [
    "Step 1: Define the Purpose of the Database (Requirement Analysis)"
   ]
  },
  {
   "cell_type": "markdown",
   "metadata": {},
   "source": [
    "Step 2: Gather Data, Organize in tables and Specify the Primary Keys\n",
    "\n",
    "Primary Key :In the relational model, a table cannot contain duplicate rows, because that would create ambiguities in retrieval. To ensure uniqueness, each table should have a column (or a set of columns), called primary key, that uniquely identifies every records of the table.\n",
    "* The values of primary key shall be unique (i.e., no duplicate value)\n",
    "* The primary key shall always have a value\n",
    "* The value of the primary key should not change\n",
    "* Primary key often uses integer (or number) type. But it could also be other types, such as texts"
   ]
  },
  {
   "cell_type": "markdown",
   "metadata": {},
   "source": [
    "Step 3: Create Relationships among Tables\n",
    "\n",
    "The most crucial aspect in designing a relational database is to identify the relationships among tables. The types of relationship include:\n",
    "* one-to-many\n",
    "* many-to-many\n",
    "* one-to-one"
   ]
  },
  {
   "cell_type": "markdown",
   "metadata": {},
   "source": [
    "Step 4: Normalization\n",
    "* First Normal Form (1NF): A table is 1NF if every cell contains a single value, not a list of values. This properties is known as atomic. 1NF also prohibits repeating group of columns such as item1, item2,.., itemN. Instead, you should create another table using one-to-many relationship.\n",
    "\n",
    "\n",
    "* Second Normal Form (2NF): A table is 2NF, if it is 1NF and every non-key column is fully dependent on the primary key. Furthermore, if the primary key is made up of several columns, every non-key column shall depend on the entire set and not part of it.\n",
    "\n",
    "\n",
    "* Third Normal Form (3NF):A table is 3NF, if it is 2NF and the non-key columns are independent of each others. In other words, the non-key columns are dependent on primary key, only on the primary key and nothing else. For example, suppose that we have a Products table with columns productID (primary key), name and unitPrice. The column discountRate shall not belong to Products table if it is also dependent on the unitPrice, which is not part of the primary key."
   ]
  },
  {
   "cell_type": "markdown",
   "metadata": {},
   "source": [
    "             "
   ]
  },
  {
   "cell_type": "markdown",
   "metadata": {},
   "source": [
    "    "
   ]
  },
  {
   "cell_type": "markdown",
   "metadata": {},
   "source": [
    "Now we have to create a database from the following ER diagram"
   ]
  },
  {
   "cell_type": "markdown",
   "metadata": {},
   "source": [
    "![alt text](images/ER Diagram.jpg \"ER Diagram\")"
   ]
  },
  {
   "cell_type": "code",
   "execution_count": 13,
   "metadata": {
    "collapsed": true
   },
   "outputs": [],
   "source": [
    "import sqlite3\n",
    "import pandas as pd"
   ]
  },
  {
   "cell_type": "code",
   "execution_count": 44,
   "metadata": {
    "collapsed": true
   },
   "outputs": [],
   "source": [
    "database ='database_sample_portfolio.sqlite'\n",
    "con = sqlite3.connect(database)\n",
    "c=con.cursor()"
   ]
  },
  {
   "cell_type": "markdown",
   "metadata": {},
   "source": [
    "The database will be created if there doesn't already exist with the same name"
   ]
  },
  {
   "cell_type": "code",
   "execution_count": null,
   "metadata": {
    "collapsed": true
   },
   "outputs": [],
   "source": [
    "country=pd.read_sql(\"\"\"Create Table 'Country'('id' Integer Primary Key Autoincrement, 'name' Text);\"\"\",con)"
   ]
  },
  {
   "cell_type": "markdown",
   "metadata": {},
   "source": [
    "We are creating a country table with 'id' as its primary key and 'name' as text so each country will be mapped with the id  "
   ]
  },
  {
   "cell_type": "code",
   "execution_count": 46,
   "metadata": {
    "collapsed": true
   },
   "outputs": [],
   "source": [
    "c.execute(\"\"\"INSERT INTO 'Country'(id,name) VALUES(1,'Belgium')\"\"\")\n",
    "con.commit()"
   ]
  },
  {
   "cell_type": "markdown",
   "metadata": {},
   "source": [
    "Inserting data into table using INSERT INTO query. We could specify particular fields in the database or we could simpy just add values if we are going to fill all the columns sequentially"
   ]
  },
  {
   "cell_type": "markdown",
   "metadata": {},
   "source": [
    "You could also do multiple entries into columns by giving multiple values"
   ]
  },
  {
   "cell_type": "code",
   "execution_count": 51,
   "metadata": {
    "collapsed": true
   },
   "outputs": [],
   "source": [
    "c.execute(\"\"\"INSERT INTO 'Country'(id,name) VALUES (1729,'England'),(4769,'France'),(7809,'Germany')\"\"\")\n",
    "con.commit()"
   ]
  },
  {
   "cell_type": "code",
   "execution_count": 56,
   "metadata": {},
   "outputs": [
    {
     "data": {
      "text/html": [
       "<div>\n",
       "<style>\n",
       "    .dataframe thead tr:only-child th {\n",
       "        text-align: right;\n",
       "    }\n",
       "\n",
       "    .dataframe thead th {\n",
       "        text-align: left;\n",
       "    }\n",
       "\n",
       "    .dataframe tbody tr th {\n",
       "        vertical-align: top;\n",
       "    }\n",
       "</style>\n",
       "<table border=\"1\" class=\"dataframe\">\n",
       "  <thead>\n",
       "    <tr style=\"text-align: right;\">\n",
       "      <th></th>\n",
       "      <th>id</th>\n",
       "      <th>name</th>\n",
       "    </tr>\n",
       "  </thead>\n",
       "  <tbody>\n",
       "    <tr>\n",
       "      <th>0</th>\n",
       "      <td>1</td>\n",
       "      <td>Belgium</td>\n",
       "    </tr>\n",
       "    <tr>\n",
       "      <th>1</th>\n",
       "      <td>1729</td>\n",
       "      <td>England</td>\n",
       "    </tr>\n",
       "    <tr>\n",
       "      <th>2</th>\n",
       "      <td>4769</td>\n",
       "      <td>France</td>\n",
       "    </tr>\n",
       "    <tr>\n",
       "      <th>3</th>\n",
       "      <td>7809</td>\n",
       "      <td>Germany</td>\n",
       "    </tr>\n",
       "  </tbody>\n",
       "</table>\n",
       "</div>"
      ],
      "text/plain": [
       "     id     name\n",
       "0     1  Belgium\n",
       "1  1729  England\n",
       "2  4769   France\n",
       "3  7809  Germany"
      ]
     },
     "execution_count": 56,
     "metadata": {},
     "output_type": "execute_result"
    }
   ],
   "source": [
    "country=pd.read_sql(\"\"\"SELECT * FROM Country\"\"\",con)\n",
    "country"
   ]
  },
  {
   "cell_type": "markdown",
   "metadata": {},
   "source": [
    "Now we need to map the country and league. As we can see from the ER Diagram the primary key of country is common for both the tables. And to normalise the database instead of name country id is mapped in the league table."
   ]
  },
  {
   "cell_type": "markdown",
   "metadata": {},
   "source": [
    "![alt text](images/count-league.png \"Country-League\")"
   ]
  },
  {
   "cell_type": "code",
   "execution_count": null,
   "metadata": {
    "collapsed": true
   },
   "outputs": [],
   "source": [
    "pd.read_sql(\"\"\"CREATE TABLE 'League'(`id`INTEGER PRIMARY KEY AUTOINCREMENT,`country_id`INTEGER,`name`TEXT,\n",
    "FOREIGN KEY(`country_id`) REFERENCES `country`(`id`));\"\"\",con)"
   ]
  },
  {
   "cell_type": "markdown",
   "metadata": {},
   "source": [
    "Inserting the data as we previously did with the country table"
   ]
  },
  {
   "cell_type": "code",
   "execution_count": null,
   "metadata": {
    "collapsed": true
   },
   "outputs": [],
   "source": [
    "pd.read_sql(\"\"\"INSERT INTO 'League'((id, country_id, name,) VALUES (1,1,'Belgium Jupiler League'),(1729,1729,'English PremierLeague'),(4769,4769,'France Ligue1'),(7809,7809,'Germany Bundesliga'));\"\"\",con)\n",
    "con.commit()"
   ]
  },
  {
   "cell_type": "code",
   "execution_count": null,
   "metadata": {
    "collapsed": true
   },
   "outputs": [],
   "source": []
  },
  {
   "cell_type": "markdown",
   "metadata": {},
   "source": [
    "Similarly we can create player,player attributes, team, team attributes and match tables"
   ]
  },
  {
   "cell_type": "code",
   "execution_count": null,
   "metadata": {
    "collapsed": true
   },
   "outputs": [],
   "source": []
  },
  {
   "cell_type": "markdown",
   "metadata": {},
   "source": [
    "Now to collect data for tagging from twitter and facebook api"
   ]
  },
  {
   "cell_type": "markdown",
   "metadata": {},
   "source": [
    "### Data scraping using Twitter API"
   ]
  },
  {
   "cell_type": "markdown",
   "metadata": {},
   "source": [
    "We are using tweepy to scrap data from twitter "
   ]
  },
  {
   "cell_type": "code",
   "execution_count": 82,
   "metadata": {
    "collapsed": true
   },
   "outputs": [],
   "source": [
    "import tweepy\n",
    "\n",
    "ckey = \"HiplqnbpuoicHUplOhG4md1E7\"\n",
    "csecret = \"UBXIuDNsNZaG8z3AKLrtq4a5uB9eNyRfUfkYbXkvGh5LV1oDOt\"\n",
    "atoken = \"4309537760-5rFQRussdad36rD9g6hHRLHPsxq7p8KhHL1ZedA\"\n",
    "asecret = \"VdKxLLnUsYjqxd2kl4zP74Y1pSHGW6q5Hp8fRIKwwNG33\"\n",
    "\n",
    "OAUTH_KEYS = {'consumer_key':ckey, 'consumer_secret':csecret,\n",
    "    'access_token_key':atoken, 'access_token_secret':asecret}\n",
    "auth = tweepy.OAuthHandler(OAUTH_KEYS['consumer_key'], OAUTH_KEYS['consumer_secret'])\n",
    "api = tweepy.API(auth)\n"
   ]
  },
  {
   "cell_type": "markdown",
   "metadata": {},
   "source": [
    "Consumer Key, Consumer Secret, Access Token and Access Secret can be found https://developer.twitter.com/"
   ]
  },
  {
   "cell_type": "code",
   "execution_count": 84,
   "metadata": {},
   "outputs": [
    {
     "name": "stdout",
     "output_type": "stream",
     "text": [
      "Name: Galang\n",
      "Screen-name: Ga8lang\n",
      "Tweet created: 2018-04-26 23:24:08\n",
      "Retweeted: False\n",
      "Favourited: False\n",
      "Location: b'Jakarta Capital Region, Indonesia'\n",
      "Time-zone: Beijing\n",
      "Geo: None\n",
      "Text: Chelsea Fc Since 1905\n",
      "Favourites Count: 182\n",
      "Friends Count: 206\n",
      "Followers Count: 402\n",
      "Statuses Count: 60747\n",
      "hashtags: None\n",
      "URL: []\n",
      "//////////////////\n"
     ]
    }
   ],
   "source": [
    "for tweet in tweepy.Cursor(api.search, q=('\"Chelsea FC\"'),since='2018-04-24', until='2018-04-27').items(1):\n",
    "\n",
    "    print (\"Name:\", tweet.author.name)\n",
    "    print (\"Screen-name:\", tweet.author.screen_name)\n",
    "    print (\"Tweet created:\", tweet.created_at)\n",
    "    print (\"Retweeted:\", tweet.retweeted)\n",
    "    print (\"Favourited:\", tweet.favorited)\n",
    "    print (\"Location:\", tweet.user.location.encode('utf8'))\n",
    "    print (\"Time-zone:\", tweet.user.time_zone)\n",
    "    print (\"Geo:\", tweet.geo)\n",
    "    print (\"Text:\", tweet.text)\n",
    "    print (\"Favourites Count:\", tweet.user.favourites_count)\n",
    "    print (\"Friends Count:\", tweet.user.friends_count)\n",
    "    print (\"Followers Count:\", tweet.user.followers_count)\n",
    "    print (\"Statuses Count:\", tweet.user.statuses_count)\n",
    "    \n",
    "    try:\n",
    "        print (\"hashtags:\", tweet.entities['hashtags'][0]['text'])\n",
    "    except IndexError:\n",
    "        print(\"hashtags: None\" )\n",
    "    print (\"URL:\", tweet.entities['urls'])\n",
    "    print (\"//////////////////\")"
   ]
  },
  {
   "cell_type": "markdown",
   "metadata": {},
   "source": [
    "    "
   ]
  },
  {
   "cell_type": "markdown",
   "metadata": {},
   "source": [
    "The twitter api has lot more information but we just filter the columns which we required"
   ]
  },
  {
   "cell_type": "markdown",
   "metadata": {},
   "source": [
    "Now we need to create a method to insert it directly into the database "
   ]
  },
  {
   "cell_type": "markdown",
   "metadata": {},
   "source": [
    "But first we create a database connection and create a table name Twitter. We add the fields in the Twitter table."
   ]
  },
  {
   "cell_type": "markdown",
   "metadata": {},
   "source": [
    "A connection needs to be establish with the database before writing the query so we connect to our database"
   ]
  },
  {
   "cell_type": "code",
   "execution_count": 85,
   "metadata": {
    "collapsed": true
   },
   "outputs": [],
   "source": [
    "import sqlite3\n",
    "con = sqlite3.connect('database.sqlite')\n",
    "cursor=con.cursor()"
   ]
  },
  {
   "cell_type": "markdown",
   "metadata": {},
   "source": [
    "After the connection has establish we write loop for inserting data into the database to eliminate manual insertion"
   ]
  },
  {
   "cell_type": "markdown",
   "metadata": {},
   "source": [
    "We are making a relational database so we need to add player id into the database which is mapped in player table with its name. So we create a variable with player id and another with our search query and then we use it to insert data into the database"
   ]
  },
  {
   "cell_type": "code",
   "execution_count": null,
   "metadata": {
    "collapsed": true
   },
   "outputs": [],
   "source": [
    "player_id = 23783\n",
    "player =\"cahill\"\n",
    "for tweet in tweepy.Cursor(api.search, q=player,since='2018-04-22', until='2018-04-23').items(20):\n",
    "    \n",
    "        Name = tweet.author.name\n",
    "        Screen_name = tweet.author.screen_name\n",
    "        Twee_created = tweet.created_at\n",
    "        Retweeted = tweet.retweeted\n",
    "        Favourited = tweet.favorited\n",
    "        Location = tweet.user.location\n",
    "        Time_zone = tweet.user.time_zone\n",
    "        Geo = tweet.geo\n",
    "        Text = tweet.text\n",
    "        Text=Text.replace('\"','')\n",
    "        Favourites_Count = tweet.user.favourites_count\n",
    "        Friends_Count = tweet.user.friends_count\n",
    "        Followers_Count = tweet.user.followers_count\n",
    "        Statuses_Count = tweet.user.statuses_count\n",
    "        try:\n",
    "                Hashtags = tweet.entities['hashtags'][0]['text']\n",
    "        except IndexError:\n",
    "                Hashtags = \"None\"\n",
    "        URL = tweet.entities['urls']\n",
    "\n",
    "        \n",
    "        format_str = \"\"\"INSERT INTO TWITTER (Player_api_id, User_Name, Screen_Name, Tweet_created, Retweeted, Favourited, Location, \n",
    "                        Time_Zone, Geo, Text, Favourites_Count, Friends_Count, Followers_Count, Statuses_Count, Hashtags, URL)\n",
    "                        VALUES(\"{id}\", \"{user}\",\"{screen}\",\"{created}\",\"{retweet}\",\"{fav}\",\"{loc}\",\"{zone}\",\"{geo}\",\"{text}\",\n",
    "                                \"{fav_count}\",\"{friends}\",\"{follow_count}\",\"{status_count}\",\"{hashtags}\",\"{url}\");\"\"\"\n",
    "    \n",
    "        sql_command = format_str.format(id=player_id, user=Name, screen=Screen_name, created=Twee_created, retweet=Retweeted, \n",
    "                                       fav=Favourited, loc=Location, zone=Time_zone, geo=Geo, text=Text, fav_count=Favourites_Count,\n",
    "                                       friends=Friends_Count, follow_count=Followers_Count, status_count=Statuses_Count,\n",
    "                                        hashtags=Hashtags, url=URL)\n",
    "        cursor.execute(sql_command)\n",
    "        \n",
    "        con.commit()"
   ]
  },
  {
   "cell_type": "markdown",
   "metadata": {},
   "source": [
    "We are taking the data into variables and later inserting it through dummy variables in the sql query.  \n",
    "We get error while running the loop with the post which does not contain any hashtags so we implemented exception handling for that error."
   ]
  },
  {
   "cell_type": "markdown",
   "metadata": {},
   "source": [
    "After each loop we need to commit the changes to the database otherwise the data won't be permanent. So we write con.commit() inside the loop.\n"
   ]
  },
  {
   "cell_type": "code",
   "execution_count": 87,
   "metadata": {
    "collapsed": true
   },
   "outputs": [],
   "source": [
    "con.close()"
   ]
  },
  {
   "cell_type": "markdown",
   "metadata": {},
   "source": [
    "We close the database connection outside the loop to reduce the time taken for creating and destroying the database connection"
   ]
  },
  {
   "cell_type": "markdown",
   "metadata": {},
   "source": [
    "Now our database has data data scrapped from twitter"
   ]
  },
  {
   "cell_type": "markdown",
   "metadata": {},
   "source": [
    "        "
   ]
  },
  {
   "cell_type": "markdown",
   "metadata": {},
   "source": [
    "### Data Scraping using Facebook API"
   ]
  },
  {
   "cell_type": "code",
   "execution_count": 90,
   "metadata": {
    "collapsed": true
   },
   "outputs": [],
   "source": [
    "%matplotlib inline \n",
    "import matplotlib.pyplot as plt\n",
    "import numpy as np\n",
    "import pandas as pd\n",
    "from scipy import stats\n",
    "import seaborn as sns\n",
    "import warnings\n",
    "import random\n",
    "from datetime import datetime\n",
    "random.seed(datetime.now())\n",
    "warnings.filterwarnings('ignore')\n",
    "\n",
    "# Make plots larger\n",
    "plt.rcParams['figure.figsize'] = (10, 6)"
   ]
  },
  {
   "cell_type": "code",
   "execution_count": 91,
   "metadata": {
    "collapsed": true
   },
   "outputs": [],
   "source": [
    "# ACCESS_TOKEN = ''\n",
    "\n",
    "ACCESS_TOKEN = 'EAACEdEose0cBAHiSryuDsH8Nb2u3D83ZCUXhMSTzY4iwmKot15ACOzeSvwSmp52G2unv6rqkF02nKfDka4Uxulk4HeS8nUtaeR6ADY86b8z9G5tnNecPHzT3CyJZBj7ZCY5GTLuGibMpqY7yByoNTwY37dmlmf1mot7YrLVyUTkbxGrCCTyOJwK2SwjglY0ZBJ2nuc3tYwZDZD'"
   ]
  },
  {
   "cell_type": "markdown",
   "metadata": {},
   "source": [
    "You can get Facebook Accesss Token from their developer's website https://developers.facebook.com/docs/facebook-login/access-tokens"
   ]
  },
  {
   "cell_type": "code",
   "execution_count": 92,
   "metadata": {},
   "outputs": [
    {
     "name": "stdout",
     "output_type": "stream",
     "text": [
      "https://graph.facebook.com/me?fields=id,name,likes&access_token=EAACEdEose0cBAHiSryuDsH8Nb2u3D83ZCUXhMSTzY4iwmKot15ACOzeSvwSmp52G2unv6rqkF02nKfDka4Uxulk4HeS8nUtaeR6ADY86b8z9G5tnNecPHzT3CyJZBj7ZCY5GTLuGibMpqY7yByoNTwY37dmlmf1mot7YrLVyUTkbxGrCCTyOJwK2SwjglY0ZBJ2nuc3tYwZDZD\n"
     ]
    }
   ],
   "source": [
    "import requests # pip install requests\n",
    "import json\n",
    "\n",
    "base_url = 'https://graph.facebook.com/me'\n",
    "\n",
    "# Specify which fields to retrieve\n",
    "fields = 'id,name,likes'\n",
    "\n",
    "url = '{0}?fields={1}&access_token={2}'.format(base_url, fields, ACCESS_TOKEN)\n",
    "print(url)"
   ]
  },
  {
   "cell_type": "code",
   "execution_count": null,
   "metadata": {
    "collapsed": true
   },
   "outputs": [],
   "source": [
    "content = requests.get(url).json()\n",
    "print(json.dumps(content, indent=1))"
   ]
  },
  {
   "cell_type": "markdown",
   "metadata": {},
   "source": [
    "This gives us the our username and Facebook ID"
   ]
  },
  {
   "cell_type": "code",
   "execution_count": 96,
   "metadata": {
    "collapsed": true
   },
   "outputs": [],
   "source": [
    "import facebook\n",
    "g = facebook.GraphAPI(ACCESS_TOKEN, version='2.7')"
   ]
  },
  {
   "cell_type": "markdown",
   "metadata": {},
   "source": [
    "Create a connection to the Graph API with the access token"
   ]
  },
  {
   "cell_type": "code",
   "execution_count": null,
   "metadata": {
    "collapsed": true
   },
   "outputs": [],
   "source": [
    "query=['ChelseaFC']\n",
    "feed = g.get_connections(query[0], 'posts')"
   ]
  },
  {
   "cell_type": "markdown",
   "metadata": {},
   "source": [
    "It will search all the posts with the search query"
   ]
  },
  {
   "cell_type": "code",
   "execution_count": 98,
   "metadata": {
    "collapsed": true
   },
   "outputs": [],
   "source": [
    "def retrieve_page_feed(page_id, n_posts):\n",
    "    \"\"\"Retrieve the first n_posts from a page's feed in reverse\n",
    "    chronological order.\"\"\"\n",
    "    feed = g.get_connections(page_id, 'posts')\n",
    "    posts = []\n",
    "    posts.extend(feed['data'])\n",
    "\n",
    "    while len(posts) < n_posts:\n",
    "        try:\n",
    "            feed = requests.get(feed['paging']['next']).json()\n",
    "            posts.extend(feed['data'])\n",
    "        except KeyError:\n",
    "            # When there are no more posts in the feed, break\n",
    "            print('Reached end of feed.')\n",
    "            break\n",
    "            \n",
    "    if len(posts) > n_posts:\n",
    "        posts = posts[:n_posts]\n",
    "\n",
    "    print('{} items retrieved from feed'.format(len(posts)))\n",
    "    return posts"
   ]
  },
  {
   "cell_type": "markdown",
   "metadata": {},
   "source": [
    "Defining a function to retrieve page feed by passing post id and number of posts to retrieve as parameters"
   ]
  },
  {
   "cell_type": "code",
   "execution_count": null,
   "metadata": {
    "collapsed": true
   },
   "outputs": [],
   "source": [
    "bs=retrieve_page_feed(query[0], 33)"
   ]
  },
  {
   "cell_type": "markdown",
   "metadata": {},
   "source": [
    "Storing those posts in the dataframe"
   ]
  },
  {
   "cell_type": "markdown",
   "metadata": {},
   "source": [
    "Now to insert into the database we first need to create a table called facebook and add fields required for storing the required data"
   ]
  },
  {
   "cell_type": "code",
   "execution_count": 99,
   "metadata": {
    "collapsed": true
   },
   "outputs": [],
   "source": [
    "con = sqlite3.connect('database.sqlite')\n",
    "cursor=con.cursor()"
   ]
  },
  {
   "cell_type": "code",
   "execution_count": null,
   "metadata": {
    "collapsed": true
   },
   "outputs": [],
   "source": [
    "for x in range (20):\n",
    "    \n",
    "    try:\n",
    "        likes = g.get_object(id=bs[x]['id'], \n",
    "                         fields=['likes.limit(0).summary(true)'])\\\n",
    "                         ['likes']['summary']['total_count']\n",
    "    except KeyError:\n",
    "        likes=0\n",
    "    try:\n",
    "        shares = g.get_object(id=bs[x]['id'], \n",
    "                         fields=['shares.limit(0).summary(true)'])\\\n",
    "                         ['shares']['count']\n",
    "    except KeyError:\n",
    "        shares=0\n",
    "    try:\n",
    "        comments = g.get_object(id=bs[x]['id'], \n",
    "                         fields=['comments.limit(0).summary(true)'])\\\n",
    "                         ['comments']['summary']['total_count']\n",
    "    except KeyError:\n",
    "        comments=0\n",
    "    try:\n",
    "        message = g.get_object(id=bs[x]['id'], fields=['message'])['message']\n",
    "        message.replace('\"','')\n",
    "    except KeyError:\n",
    "        message=\"None\"\n",
    "   \n",
    "    \n",
    "    format_str = \"\"\"INSERT INTO Facebook (Team_api_id, Fan_Count, Likes, Shares, Comments, Messages)\n",
    "                        VALUES(\"{id}\", \"{fan}\",\"{likes}\",\"{shares}\",\"{comments}\",\"{message}\");\"\"\"\n",
    "    \n",
    "    sql_command = format_str.format(id=team_id, fan=fan, likes=likes, shares=shares, comments=comments, message=message)\n",
    "    cursor.execute(sql_command)\n",
    "        \n",
    "    con.commit()"
   ]
  },
  {
   "cell_type": "markdown",
   "metadata": {},
   "source": [
    "We are using exception handling to sanitize the data before inserting it into the database."
   ]
  },
  {
   "cell_type": "markdown",
   "metadata": {},
   "source": [
    "We are performing the insertion operation similar to that of twitter data using dummy variables"
   ]
  },
  {
   "cell_type": "markdown",
   "metadata": {},
   "source": [
    "        "
   ]
  },
  {
   "cell_type": "markdown",
   "metadata": {},
   "source": [
    "## References"
   ]
  },
  {
   "cell_type": "markdown",
   "metadata": {},
   "source": [
    "* https://www.ntu.edu.sg/home/ehchua/programming/sql/Relational_Database_Design.html"
   ]
  },
  {
   "cell_type": "markdown",
   "metadata": {},
   "source": [
    "* http://www.dummies.com/programming/sql/how-to-design-a-sql-database/"
   ]
  },
  {
   "cell_type": "markdown",
   "metadata": {},
   "source": [
    "* https://www.lucidchart.com/pages/database-diagram/database-design\n"
   ]
  },
  {
   "cell_type": "markdown",
   "metadata": {},
   "source": [
    "## LICENSE"
   ]
  },
  {
   "cell_type": "markdown",
   "metadata": {},
   "source": [
    "MIT License  \n",
    "\n",
    "Copyright (c) 2018 Prathamesh Tari and Akshay Shinde\n",
    "\n",
    "Permission is hereby granted, free of charge, to any person obtaining a copy of this software and associated documentation files (the \"Software\"), to deal in the Software without restriction, including without limitation the rights to use, copy, modify, merge, publish, distribute, sublicense, and/or sell copies of the Software, and to permit persons to whom the Software is furnished to do so, subject to the following conditions:\n",
    "\n",
    "The above copyright notice and this permission notice shall be included in all copies or substantial portions of the Software.\n",
    "\n",
    "THE SOFTWARE IS PROVIDED \"AS IS\", WITHOUT WARRANTY OF ANY KIND, EXPRESS OR IMPLIED, INCLUDING BUT NOT LIMITED TO THE WARRANTIES OF MERCHANTABILITY, FITNESS FOR A PARTICULAR PURPOSE AND NONINFRINGEMENT. IN NO EVENT SHALL THE AUTHORS OR COPYRIGHT HOLDERS BE LIABLE FOR ANY CLAIM, DAMAGES OR OTHER LIABILITY, WHETHER IN AN ACTION OF CONTRACT, TORT OR OTHERWISE, ARISING FROM, OUT OF OR IN CONNECTION WITH THE SOFTWARE OR THE USE OR OTHER DEALINGS IN THE SOFTWARE."
   ]
  },
  {
   "cell_type": "markdown",
   "metadata": {},
   "source": [
    "<a rel=\"license\" href=\"http://creativecommons.org/licenses/by/4.0/\"><img alt=\"Creative Commons License\" style=\"border-width:0\" src=\"https://i.creativecommons.org/l/by/4.0/88x31.png\" /></a><br />This work is licensed under a <a rel=\"license\" href=\"http://creativecommons.org/licenses/by/4.0/\">Creative Commons Attribution 4.0 International License</a>."
   ]
  },
  {
   "cell_type": "code",
   "execution_count": null,
   "metadata": {
    "collapsed": true
   },
   "outputs": [],
   "source": []
  }
 ],
 "metadata": {
  "kernelspec": {
   "display_name": "Python 3",
   "language": "python",
   "name": "python3"
  },
  "language_info": {
   "codemirror_mode": {
    "name": "ipython",
    "version": 3
   },
   "file_extension": ".py",
   "mimetype": "text/x-python",
   "name": "python",
   "nbconvert_exporter": "python",
   "pygments_lexer": "ipython3",
   "version": "3.6.1"
  }
 },
 "nbformat": 4,
 "nbformat_minor": 2
}
